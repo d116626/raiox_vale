{
 "cells": [
  {
   "cell_type": "code",
   "execution_count": 1,
   "metadata": {},
   "outputs": [],
   "source": [
    "import pandas as pd\n",
    "import numpy as np\n",
    "\n",
    "import requests\n",
    "from bs4 import BeautifulSoup\n",
    "\n",
    "pd.options.display.max_columns = 999\n",
    "pd.options.display.max_rows = 999\n",
    "pd.options.display.max_colwidth = 100\n",
    "\n",
    "# import yaml"
   ]
  },
  {
   "cell_type": "markdown",
   "metadata": {},
   "source": [
    "## Localidades"
   ]
  },
  {
   "cell_type": "code",
   "execution_count": 2,
   "metadata": {},
   "outputs": [],
   "source": [
    "sead_loc = pd.read_csv('../data/geodata/seade_codigo_ibge.csv')\n",
    "br_mun   = pd.read_csv('../data/geodata/br_municipios_ibge.csv')\n",
    "cols = ['geocodigo','nome_mesorregiao','nome_microrregiao']\n",
    "br_mun = br_mun[cols]"
   ]
  },
  {
   "cell_type": "code",
   "execution_count": 3,
   "metadata": {},
   "outputs": [],
   "source": [
    "url = \"http://api-imp.seade.gov.br/v1/localidade\"\n",
    "r = requests.get(url).json()\n",
    "df_loc = pd.DataFrame.from_records(r['localidades'])\n",
    "df_loc = df_loc.merge(sead_loc, how = 'left', left_on='nome', right_on='localidade')\n",
    "df_loc = df_loc.merge(br_mun, on='geocodigo', how='left')\n",
    "nomes = ['Total do Estado de São Paulo','Região Metropolitana do Vale do Paraíba e Litoral Norte']\n",
    "mask = ((df_loc['nome_mesorregiao']=='Vale do Paraíba Paulista') | (df_loc['nome'].isin(nomes)))\n",
    "# mask = (df_loc['nome'].isin(nomes))\n",
    "\n",
    "df_loc = df_loc[mask]"
   ]
  },
  {
   "cell_type": "code",
   "execution_count": 5,
   "metadata": {},
   "outputs": [
    {
     "data": {
      "text/html": [
       "<div>\n",
       "<style scoped>\n",
       "    .dataframe tbody tr th:only-of-type {\n",
       "        vertical-align: middle;\n",
       "    }\n",
       "\n",
       "    .dataframe tbody tr th {\n",
       "        vertical-align: top;\n",
       "    }\n",
       "\n",
       "    .dataframe thead th {\n",
       "        text-align: right;\n",
       "    }\n",
       "</style>\n",
       "<table border=\"1\" class=\"dataframe\">\n",
       "  <thead>\n",
       "    <tr style=\"text-align: right;\">\n",
       "      <th></th>\n",
       "      <th>codigo</th>\n",
       "      <th>nome</th>\n",
       "      <th>nivel</th>\n",
       "      <th>codigo_pai</th>\n",
       "      <th>nome_pai</th>\n",
       "      <th>geocodigo</th>\n",
       "      <th>localidade</th>\n",
       "      <th>nome_mesorregiao</th>\n",
       "      <th>nome_microrregiao</th>\n",
       "    </tr>\n",
       "  </thead>\n",
       "  <tbody>\n",
       "    <tr>\n",
       "      <th>99</th>\n",
       "      <td>1000</td>\n",
       "      <td>Total do Estado de São Paulo</td>\n",
       "      <td>Estado de São Paulo</td>\n",
       "      <td>0</td>\n",
       "      <td>None</td>\n",
       "      <td>NaN</td>\n",
       "      <td>NaN</td>\n",
       "      <td>NaN</td>\n",
       "      <td>NaN</td>\n",
       "    </tr>\n",
       "    <tr>\n",
       "      <th>127</th>\n",
       "      <td>25</td>\n",
       "      <td>Aparecida</td>\n",
       "      <td>Municípios</td>\n",
       "      <td>718</td>\n",
       "      <td>Região de Governo de Guaratinguetá</td>\n",
       "      <td>3502507.0</td>\n",
       "      <td>Aparecida</td>\n",
       "      <td>Vale do Paraíba Paulista</td>\n",
       "      <td>Guaratinguetá</td>\n",
       "    </tr>\n",
       "    <tr>\n",
       "      <th>135</th>\n",
       "      <td>576</td>\n",
       "      <td>Arapeí</td>\n",
       "      <td>Municípios</td>\n",
       "      <td>714</td>\n",
       "      <td>Região de Governo de Cruzeiro</td>\n",
       "      <td>3503158.0</td>\n",
       "      <td>Arapeí</td>\n",
       "      <td>Vale do Paraíba Paulista</td>\n",
       "      <td>Bananal</td>\n",
       "    </tr>\n",
       "    <tr>\n",
       "      <th>140</th>\n",
       "      <td>35</td>\n",
       "      <td>Areias</td>\n",
       "      <td>Municípios</td>\n",
       "      <td>714</td>\n",
       "      <td>Região de Governo de Cruzeiro</td>\n",
       "      <td>3503505.0</td>\n",
       "      <td>Areias</td>\n",
       "      <td>Vale do Paraíba Paulista</td>\n",
       "      <td>Bananal</td>\n",
       "    </tr>\n",
       "    <tr>\n",
       "      <th>155</th>\n",
       "      <td>49</td>\n",
       "      <td>Bananal</td>\n",
       "      <td>Municípios</td>\n",
       "      <td>714</td>\n",
       "      <td>Região de Governo de Cruzeiro</td>\n",
       "      <td>3504909.0</td>\n",
       "      <td>Bananal</td>\n",
       "      <td>Vale do Paraíba Paulista</td>\n",
       "      <td>Bananal</td>\n",
       "    </tr>\n",
       "  </tbody>\n",
       "</table>\n",
       "</div>"
      ],
      "text/plain": [
       "    codigo                          nome                nivel codigo_pai  \\\n",
       "99    1000  Total do Estado de São Paulo  Estado de São Paulo          0   \n",
       "127     25                     Aparecida           Municípios        718   \n",
       "135    576                        Arapeí           Municípios        714   \n",
       "140     35                        Areias           Municípios        714   \n",
       "155     49                       Bananal           Municípios        714   \n",
       "\n",
       "                               nome_pai  geocodigo localidade  \\\n",
       "99                                 None        NaN        NaN   \n",
       "127  Região de Governo de Guaratinguetá  3502507.0  Aparecida   \n",
       "135       Região de Governo de Cruzeiro  3503158.0     Arapeí   \n",
       "140       Região de Governo de Cruzeiro  3503505.0     Areias   \n",
       "155       Região de Governo de Cruzeiro  3504909.0    Bananal   \n",
       "\n",
       "             nome_mesorregiao nome_microrregiao  \n",
       "99                        NaN               NaN  \n",
       "127  Vale do Paraíba Paulista     Guaratinguetá  \n",
       "135  Vale do Paraíba Paulista           Bananal  \n",
       "140  Vale do Paraíba Paulista           Bananal  \n",
       "155  Vale do Paraíba Paulista           Bananal  "
      ]
     },
     "execution_count": 5,
     "metadata": {},
     "output_type": "execute_result"
    }
   ],
   "source": [
    "df_loc.head()"
   ]
  },
  {
   "cell_type": "markdown",
   "metadata": {},
   "source": [
    "## Variaveis"
   ]
  },
  {
   "cell_type": "code",
   "execution_count": 6,
   "metadata": {},
   "outputs": [],
   "source": [
    "# url =  \"http://api-imp.seade.gov.br/v1/variavel?offset=0&limit=100000\"\n",
    "# r = requests.get(url).json()\n",
    "# df_var = pd.DataFrame.from_records(r['variavel'])\n",
    "\n",
    "# var_list = list(df_var.keys())"
   ]
  },
  {
   "cell_type": "code",
   "execution_count": null,
   "metadata": {},
   "outputs": [],
   "source": []
  },
  {
   "cell_type": "markdown",
   "metadata": {},
   "source": [
    "# Get Data"
   ]
  },
  {
   "cell_type": "code",
   "execution_count": 7,
   "metadata": {},
   "outputs": [],
   "source": [
    "def get_all_cities(locs,anos):\n",
    "    ### Generate a Clear Dataframe\n",
    "    df = pd.DataFrame([1])\n",
    "    df['codigo_localidade']   = 'missing'\n",
    "    df['localidade']   = 'missing'\n",
    "    df['nome_localidade_pai']     = 'missing'\n",
    "    df['codigo_variavel']          = 'missing'\n",
    "    df['variavel'] = 'missing'\n",
    "    df['unidade']             = 'missing'\n",
    "    df['periodo']             = 'missing'\n",
    "    df['ano']            = 'missing'\n",
    "    df['loc'] = 'missing'\n",
    "    df['year']= 'missing'\n",
    "    df = df.drop(columns=[0])\n",
    "    df.to_csv(\"dados_consolidados.csv\", index=False, encoding='utf-8')\n",
    "    \n",
    "    count = 0\n",
    "    for localidade in locs:\n",
    "        print(count,localidade)\n",
    "        count+=1\n",
    "        for ano in anos:\n",
    "            url = \"http://api-imp.seade.gov.br/v1/dados/{}/0/{}\".format(localidade,ano)\n",
    "    #           r = requests.get(url).json()\n",
    "    #             url = \"http://api-imp.seade.gov.br/v1/dados/0/2/2010\"\n",
    "            r = requests.get(url).json()\n",
    "            try:\n",
    "                df = pd.DataFrame.from_records(r['dados'])\n",
    "                df['loc'] = localidade\n",
    "                df['year']= ano\n",
    "\n",
    "            except:\n",
    "                df = pd.DataFrame([1])\n",
    "                df['codigo_localidade']   = 'missing'\n",
    "                df['localidade']   = 'missing'\n",
    "                df['nome_localidade_pai']     = 'missing'\n",
    "                df['codigo_variavel']          = 'missing'\n",
    "                df['variavel'] = 'missing'\n",
    "                df['unidade']             = 'missing'\n",
    "                df['periodo']             = 'missing'\n",
    "                df['ano']            = 'missing'\n",
    "                df['loc'] = localidade\n",
    "                df['year']= ano\n",
    "                df = df.drop(columns=[0])\n",
    "\n",
    "    #         df_final = pd.concat([df_final,df], axis=0)\n",
    "    #         df.to_csv(\"dados_consolidados_3.csv\", index=False, encoding='utf-8')\n",
    "\n",
    "            df.to_csv(\"dados_consolidados.csv\", index=False, encoding='utf-8', mode='a', header=False)"
   ]
  },
  {
   "cell_type": "code",
   "execution_count": 204,
   "metadata": {},
   "outputs": [],
   "source": [
    "# var_list\n",
    "locs = list(df_loc['codigo'].unique())\n",
    "anos = [i for i in range(2010,2021)]"
   ]
  },
  {
   "cell_type": "code",
   "execution_count": 206,
   "metadata": {
    "scrolled": true
   },
   "outputs": [
    {
     "name": "stdout",
     "output_type": "stream",
     "text": [
      "0 1000\n",
      "1 25\n",
      "2 576\n",
      "3 35\n",
      "4 49\n",
      "5 85\n",
      "6 86\n",
      "7 97\n",
      "8 628\n",
      "9 105\n",
      "10 134\n",
      "11 136\n",
      "12 184\n",
      "13 202\n",
      "14 204\n",
      "15 244\n",
      "16 249\n",
      "17 263\n",
      "18 266\n",
      "19 272\n",
      "20 317\n",
      "21 323\n",
      "22 356\n",
      "23 380\n",
      "24 385\n",
      "25 611\n",
      "26 419\n",
      "27 423\n",
      "28 443\n",
      "29 460\n",
      "30 481\n",
      "31 486\n",
      "32 495\n",
      "33 499\n",
      "34 500\n",
      "35 507\n",
      "36 520\n",
      "37 541\n",
      "38 548\n",
      "39 554\n",
      "40 697\n"
     ]
    }
   ],
   "source": [
    "get_all_cities(locs,anos)"
   ]
  },
  {
   "cell_type": "code",
   "execution_count": null,
   "metadata": {},
   "outputs": [],
   "source": []
  },
  {
   "cell_type": "code",
   "execution_count": null,
   "metadata": {},
   "outputs": [],
   "source": []
  },
  {
   "cell_type": "code",
   "execution_count": null,
   "metadata": {},
   "outputs": [],
   "source": []
  },
  {
   "cell_type": "code",
   "execution_count": null,
   "metadata": {},
   "outputs": [],
   "source": []
  },
  {
   "cell_type": "code",
   "execution_count": null,
   "metadata": {},
   "outputs": [],
   "source": []
  },
  {
   "cell_type": "code",
   "execution_count": null,
   "metadata": {},
   "outputs": [],
   "source": []
  },
  {
   "cell_type": "code",
   "execution_count": null,
   "metadata": {},
   "outputs": [],
   "source": []
  },
  {
   "cell_type": "code",
   "execution_count": null,
   "metadata": {},
   "outputs": [],
   "source": []
  },
  {
   "cell_type": "code",
   "execution_count": null,
   "metadata": {},
   "outputs": [],
   "source": []
  },
  {
   "cell_type": "code",
   "execution_count": null,
   "metadata": {},
   "outputs": [],
   "source": []
  },
  {
   "cell_type": "code",
   "execution_count": null,
   "metadata": {},
   "outputs": [],
   "source": []
  },
  {
   "cell_type": "code",
   "execution_count": null,
   "metadata": {},
   "outputs": [],
   "source": []
  },
  {
   "cell_type": "code",
   "execution_count": null,
   "metadata": {},
   "outputs": [],
   "source": []
  },
  {
   "cell_type": "code",
   "execution_count": null,
   "metadata": {},
   "outputs": [],
   "source": []
  },
  {
   "cell_type": "code",
   "execution_count": null,
   "metadata": {},
   "outputs": [],
   "source": []
  }
 ],
 "metadata": {
  "kernelspec": {
   "display_name": "Python 3",
   "language": "python",
   "name": "python3"
  },
  "language_info": {
   "codemirror_mode": {
    "name": "ipython",
    "version": 3
   },
   "file_extension": ".py",
   "mimetype": "text/x-python",
   "name": "python",
   "nbconvert_exporter": "python",
   "pygments_lexer": "ipython3",
   "version": "3.7.6"
  }
 },
 "nbformat": 4,
 "nbformat_minor": 4
}
