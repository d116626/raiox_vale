{
 "cells": [
  {
   "cell_type": "code",
   "execution_count": 1,
   "metadata": {},
   "outputs": [],
   "source": [
    "import pandas as pd\n",
    "import numpy as np\n",
    "\n",
    "import requests\n",
    "from bs4 import BeautifulSoup\n",
    "\n",
    "pd.options.display.max_columns = 999\n",
    "pd.options.display.max_rows = 999\n",
    "pd.options.display.max_colwidth = 100\n",
    "\n",
    "# import yaml"
   ]
  },
  {
   "cell_type": "markdown",
   "metadata": {},
   "source": [
    "## Manipulate Data from SEADE"
   ]
  },
  {
   "cell_type": "code",
   "execution_count": 9,
   "metadata": {},
   "outputs": [],
   "source": [
    "var = pd.read_csv('../data/variaveis_selected.csv')\n",
    "mask = (var['tipo']=='agro') | (var['variavel'].str.contains('Série interrompida'))\n",
    "var  = var[np.logical_not(mask)]"
   ]
  },
  {
   "cell_type": "code",
   "execution_count": 10,
   "metadata": {},
   "outputs": [],
   "source": [
    "def split_data(df):\n",
    "    df['ano'] = df['ano'].str.replace(\"'\",\"\").str.replace(\"{\",\"\").str.replace(\"}\",\"\").apply(lambda x: x.split(\":\"))    \n",
    "    df['valor']  = df['ano'].apply(lambda x: x[1])\n",
    "    df['ano']  = df['ano'].apply(lambda x: x[0])\n",
    "    df['valor'] = df['valor'].str.replace('.','').str.replace(',','.')\n",
    "    \n",
    "    return(df)"
   ]
  },
  {
   "cell_type": "code",
   "execution_count": 22,
   "metadata": {},
   "outputs": [
    {
     "name": "stderr",
     "output_type": "stream",
     "text": [
      "/home/m/anaconda3/lib/python3.7/site-packages/IPython/core/interactiveshell.py:3063: DtypeWarning: Columns (0,3,8,9) have mixed types.Specify dtype option on import or set low_memory=False.\n",
      "  interactivity=interactivity, compiler=compiler, result=result)\n"
     ]
    }
   ],
   "source": [
    "df = pd.read_csv('../data/dados_consolidados.csv')\n",
    "mask = df['variavel']!='missing'\n",
    "df = df[mask]\n",
    "\n",
    "ddf = split_data(df)\n",
    "dd = ddf.sort_values(by=['codigo_localidade','periodo','nome_localidade_pai','year'], ascending=False).drop_duplicates(['localidade','variavel'],keep='first').sort_values(by='variavel')\n",
    "\n",
    "dh = ddf.sort_values(by=['codigo_localidade','periodo','nome_localidade_pai','year'], ascending=False).sort_values(by=['variavel','ano'])"
   ]
  },
  {
   "cell_type": "code",
   "execution_count": 23,
   "metadata": {},
   "outputs": [],
   "source": [
    "dd = dd.merge(var,on='variavel', how='inner')\n",
    "\n",
    "dd['codigo_localidade'] = dd['codigo_localidade'].astype(int) \n",
    "dd = dd.sort_values(by=['variavel','codigo_localidade'])\n",
    "\n",
    "cols = ['codigo_localidade','nome_localidade_pai','codigo_variavel','loc','year']\n",
    "dd = dd.drop(cols,1)\n",
    "\n",
    "\n",
    "dd = dd.merge(var,on='variavel', how='inner')\n",
    "\n",
    "dd['codigo_localidade'] = dd['codigo_localidade'].astype(int) \n",
    "dd = dd.sort_values(by=['variavel','codigo_localidade'])\n",
    "\n",
    "cols = ['codigo_localidade','nome_localidade_pai','codigo_variavel','loc','year']\n",
    "dd = dd.drop(cols,1)"
   ]
  },
  {
   "cell_type": "code",
   "execution_count": 24,
   "metadata": {},
   "outputs": [],
   "source": [
    "# dd.to_excel('../data/cleaned_data.xlsx', index=False)"
   ]
  },
  {
   "cell_type": "code",
   "execution_count": 25,
   "metadata": {},
   "outputs": [
    {
     "data": {
      "text/html": [
       "<div>\n",
       "<style scoped>\n",
       "    .dataframe tbody tr th:only-of-type {\n",
       "        vertical-align: middle;\n",
       "    }\n",
       "\n",
       "    .dataframe tbody tr th {\n",
       "        vertical-align: top;\n",
       "    }\n",
       "\n",
       "    .dataframe thead th {\n",
       "        text-align: right;\n",
       "    }\n",
       "</style>\n",
       "<table border=\"1\" class=\"dataframe\">\n",
       "  <thead>\n",
       "    <tr style=\"text-align: right;\">\n",
       "      <th></th>\n",
       "      <th>localidade</th>\n",
       "      <th>variavel</th>\n",
       "      <th>unidade</th>\n",
       "      <th>periodo</th>\n",
       "      <th>ano</th>\n",
       "      <th>valor</th>\n",
       "      <th>tipo</th>\n",
       "      <th>portal</th>\n",
       "    </tr>\n",
       "  </thead>\n",
       "  <tbody>\n",
       "    <tr>\n",
       "      <th>8</th>\n",
       "      <td>Aparecida</td>\n",
       "      <td>Alunos que Atingiram o Nível Abaixo do Básico na Prova Brasil em Língua Portuguesa (5º ano) - Re...</td>\n",
       "      <td>(Em %)</td>\n",
       "      <td>2007/2009/2011/2013/2015</td>\n",
       "      <td>2015</td>\n",
       "      <td>-</td>\n",
       "      <td>educacao</td>\n",
       "      <td>NaN</td>\n",
       "    </tr>\n",
       "    <tr>\n",
       "      <th>5</th>\n",
       "      <td>Caçapava</td>\n",
       "      <td>Alunos que Atingiram o Nível Abaixo do Básico na Prova Brasil em Língua Portuguesa (5º ano) - Re...</td>\n",
       "      <td>(Em %)</td>\n",
       "      <td>2007/2009/2011/2013/2015</td>\n",
       "      <td>2015</td>\n",
       "      <td>-</td>\n",
       "      <td>educacao</td>\n",
       "      <td>NaN</td>\n",
       "    </tr>\n",
       "    <tr>\n",
       "      <th>3</th>\n",
       "      <td>Cruzeiro</td>\n",
       "      <td>Alunos que Atingiram o Nível Abaixo do Básico na Prova Brasil em Língua Portuguesa (5º ano) - Re...</td>\n",
       "      <td>(Em %)</td>\n",
       "      <td>2007/2009/2011/2013/2015</td>\n",
       "      <td>2015</td>\n",
       "      <td>-</td>\n",
       "      <td>educacao</td>\n",
       "      <td>NaN</td>\n",
       "    </tr>\n",
       "    <tr>\n",
       "      <th>6</th>\n",
       "      <td>Cunha</td>\n",
       "      <td>Alunos que Atingiram o Nível Abaixo do Básico na Prova Brasil em Língua Portuguesa (5º ano) - Re...</td>\n",
       "      <td>(Em %)</td>\n",
       "      <td>2007/2009/2011/2013/2015</td>\n",
       "      <td>2015</td>\n",
       "      <td>12.30</td>\n",
       "      <td>educacao</td>\n",
       "      <td>NaN</td>\n",
       "    </tr>\n",
       "    <tr>\n",
       "      <th>0</th>\n",
       "      <td>Guaratinguetá</td>\n",
       "      <td>Alunos que Atingiram o Nível Abaixo do Básico na Prova Brasil em Língua Portuguesa (5º ano) - Re...</td>\n",
       "      <td>(Em %)</td>\n",
       "      <td>2007/2009/2011/2013/2015</td>\n",
       "      <td>2015</td>\n",
       "      <td>-</td>\n",
       "      <td>educacao</td>\n",
       "      <td>NaN</td>\n",
       "    </tr>\n",
       "  </tbody>\n",
       "</table>\n",
       "</div>"
      ],
      "text/plain": [
       "      localidade  \\\n",
       "8      Aparecida   \n",
       "5       Caçapava   \n",
       "3       Cruzeiro   \n",
       "6          Cunha   \n",
       "0  Guaratinguetá   \n",
       "\n",
       "                                                                                              variavel  \\\n",
       "8  Alunos que Atingiram o Nível Abaixo do Básico na Prova Brasil em Língua Portuguesa (5º ano) - Re...   \n",
       "5  Alunos que Atingiram o Nível Abaixo do Básico na Prova Brasil em Língua Portuguesa (5º ano) - Re...   \n",
       "3  Alunos que Atingiram o Nível Abaixo do Básico na Prova Brasil em Língua Portuguesa (5º ano) - Re...   \n",
       "6  Alunos que Atingiram o Nível Abaixo do Básico na Prova Brasil em Língua Portuguesa (5º ano) - Re...   \n",
       "0  Alunos que Atingiram o Nível Abaixo do Básico na Prova Brasil em Língua Portuguesa (5º ano) - Re...   \n",
       "\n",
       "  unidade                   periodo   ano   valor      tipo  portal  \n",
       "8  (Em %)  2007/2009/2011/2013/2015  2015       -  educacao     NaN  \n",
       "5  (Em %)  2007/2009/2011/2013/2015  2015       -  educacao     NaN  \n",
       "3  (Em %)  2007/2009/2011/2013/2015  2015       -  educacao     NaN  \n",
       "6  (Em %)  2007/2009/2011/2013/2015  2015   12.30  educacao     NaN  \n",
       "0  (Em %)  2007/2009/2011/2013/2015  2015       -  educacao     NaN  "
      ]
     },
     "execution_count": 25,
     "metadata": {},
     "output_type": "execute_result"
    }
   ],
   "source": [
    "dd.head()"
   ]
  },
  {
   "cell_type": "markdown",
   "metadata": {},
   "source": [
    "## Educacao\n",
    " - [QEdu](https://www.qedu.org.br/) \n",
    " - [Dados Abertos da Educação de SP](https://dados.educacao.sp.gov.br/search/type/dataset)\n",
    " - [INEP - Microdados](http://portal.inep.gov.br/microdados#)\n",
    " - [IDEB](http://portal.inep.gov.br/web/guest/educacao-basica/ideb/resultados)\n",
    " - [Censo Escolar - BI](https://inepdata.inep.gov.br/analytics/saw.dll?Portal&PortalPath=%2Fshared%2FEduca%C3%A7%C3%A3o%20B%C3%A1sica%20-%20Acesso%20Externo%2FArquivos%2FCenso%2FConsolidado%2FInforma%C3%A7%C3%B5es%20Consolidadas%2FFun%C3%A7%C3%B5es%20Docentes%2FPanorama%20deFun%C3%A7%C3%B5es%20Docentes%20na%20Educa%C3%A7%C3%A3o%20B%C3%A1sica)\n",
    "\n"
   ]
  },
  {
   "cell_type": "code",
   "execution_count": 32,
   "metadata": {},
   "outputs": [],
   "source": [
    "mask = (dd['portal']==1) & (dd['variavel'].str.contains('IDESP'))\n",
    "ideb_idesp = dd[mask]\n",
    "\n",
    "# mask = ideb_idesp['localidade']=='Taubaté'\n",
    "# ideb_idesp[mask].head()"
   ]
  },
  {
   "cell_type": "code",
   "execution_count": 33,
   "metadata": {},
   "outputs": [
    {
     "data": {
      "text/html": [
       "<div>\n",
       "<style scoped>\n",
       "    .dataframe tbody tr th:only-of-type {\n",
       "        vertical-align: middle;\n",
       "    }\n",
       "\n",
       "    .dataframe tbody tr th {\n",
       "        vertical-align: top;\n",
       "    }\n",
       "\n",
       "    .dataframe thead th {\n",
       "        text-align: right;\n",
       "    }\n",
       "</style>\n",
       "<table border=\"1\" class=\"dataframe\">\n",
       "  <thead>\n",
       "    <tr style=\"text-align: right;\">\n",
       "      <th></th>\n",
       "      <th>localidade</th>\n",
       "      <th>variavel</th>\n",
       "      <th>unidade</th>\n",
       "      <th>periodo</th>\n",
       "      <th>ano</th>\n",
       "      <th>valor</th>\n",
       "      <th>tipo</th>\n",
       "      <th>portal</th>\n",
       "    </tr>\n",
       "  </thead>\n",
       "  <tbody>\n",
       "  </tbody>\n",
       "</table>\n",
       "</div>"
      ],
      "text/plain": [
       "Empty DataFrame\n",
       "Columns: [localidade, variavel, unidade, periodo, ano, valor, tipo, portal]\n",
       "Index: []"
      ]
     },
     "execution_count": 33,
     "metadata": {},
     "output_type": "execute_result"
    }
   ],
   "source": [
    "ideb_idesp"
   ]
  },
  {
   "cell_type": "code",
   "execution_count": null,
   "metadata": {},
   "outputs": [],
   "source": []
  },
  {
   "cell_type": "code",
   "execution_count": null,
   "metadata": {},
   "outputs": [],
   "source": []
  },
  {
   "cell_type": "code",
   "execution_count": null,
   "metadata": {},
   "outputs": [],
   "source": []
  },
  {
   "cell_type": "code",
   "execution_count": null,
   "metadata": {},
   "outputs": [],
   "source": []
  },
  {
   "cell_type": "code",
   "execution_count": null,
   "metadata": {},
   "outputs": [],
   "source": []
  },
  {
   "cell_type": "code",
   "execution_count": null,
   "metadata": {},
   "outputs": [],
   "source": []
  },
  {
   "cell_type": "code",
   "execution_count": null,
   "metadata": {},
   "outputs": [],
   "source": []
  },
  {
   "cell_type": "code",
   "execution_count": null,
   "metadata": {},
   "outputs": [],
   "source": []
  },
  {
   "cell_type": "code",
   "execution_count": null,
   "metadata": {},
   "outputs": [],
   "source": []
  },
  {
   "cell_type": "code",
   "execution_count": null,
   "metadata": {},
   "outputs": [],
   "source": []
  },
  {
   "cell_type": "code",
   "execution_count": null,
   "metadata": {},
   "outputs": [],
   "source": []
  },
  {
   "cell_type": "code",
   "execution_count": null,
   "metadata": {},
   "outputs": [],
   "source": []
  },
  {
   "cell_type": "code",
   "execution_count": null,
   "metadata": {},
   "outputs": [],
   "source": []
  },
  {
   "cell_type": "code",
   "execution_count": null,
   "metadata": {},
   "outputs": [],
   "source": []
  },
  {
   "cell_type": "code",
   "execution_count": null,
   "metadata": {},
   "outputs": [],
   "source": []
  },
  {
   "cell_type": "code",
   "execution_count": null,
   "metadata": {},
   "outputs": [],
   "source": []
  },
  {
   "cell_type": "code",
   "execution_count": null,
   "metadata": {},
   "outputs": [],
   "source": []
  },
  {
   "cell_type": "code",
   "execution_count": null,
   "metadata": {},
   "outputs": [],
   "source": []
  },
  {
   "cell_type": "code",
   "execution_count": null,
   "metadata": {},
   "outputs": [],
   "source": []
  },
  {
   "cell_type": "code",
   "execution_count": null,
   "metadata": {},
   "outputs": [],
   "source": []
  }
 ],
 "metadata": {
  "kernelspec": {
   "display_name": "Python 3",
   "language": "python",
   "name": "python3"
  },
  "language_info": {
   "codemirror_mode": {
    "name": "ipython",
    "version": 3
   },
   "file_extension": ".py",
   "mimetype": "text/x-python",
   "name": "python",
   "nbconvert_exporter": "python",
   "pygments_lexer": "ipython3",
   "version": "3.7.6"
  }
 },
 "nbformat": 4,
 "nbformat_minor": 4
}
